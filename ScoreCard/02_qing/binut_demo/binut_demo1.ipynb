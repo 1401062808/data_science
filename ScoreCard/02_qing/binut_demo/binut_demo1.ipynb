{
 "cells": [
  {
   "cell_type": "code",
   "execution_count": 1,
   "metadata": {
    "ExecuteTime": {
     "end_time": "2019-05-21T01:40:52.548439Z",
     "start_time": "2019-05-21T01:40:52.531790Z"
    }
   },
   "outputs": [
    {
     "data": {
      "text/plain": [
       "'\\n用于数值型和字符型变量的分箱类。\\n支持手动分箱，等频分箱，单调分箱，IV、WOE计算及转换。\\n@author: \\n@date: new_version on 2018/11/3\\n'"
      ]
     },
     "execution_count": 1,
     "metadata": {},
     "output_type": "execute_result"
    }
   ],
   "source": [
    "# -*- coding: utf-8 -*-\n",
    "\"\"\"\n",
    "用于数值型和字符型变量的分箱类。\n",
    "支持手动分箱，等频分箱，单调分箱，IV、WOE计算及转换。\n",
    "@author: \n",
    "@date: new_version on 2018/11/3\n",
    "\"\"\""
   ]
  },
  {
   "cell_type": "code",
   "execution_count": 4,
   "metadata": {},
   "outputs": [],
   "source": [
    "from pandas.api.types import is_string_dtype\n",
    "from pandas.api.types import is_numeric_dtype\n",
    "import matplotlib.pyplot as plt\n",
    "plt.style.use('seaborn')\n",
    "import pandas as pd\n",
    "import numpy as np\n",
    "from pylab import mpl\n",
    "mpl.rcParams['font.sans-serif'] = ['SimHei'] #指定默认字体    \n",
    "mpl.rcParams['axes.unicode_minus'] = False #解决保存图像是负号'-'显示为方块的问题\n",
    "try:\n",
    "    import cPickle as pickle\n",
    "except ImportError:\n",
    "    import pickle\n",
    "from scipy import stats\n",
    "from sklearn import metrics\n",
    "from sklearn.model_selection import train_test_split"
   ]
  },
  {
   "cell_type": "code",
   "execution_count": 5,
   "metadata": {},
   "outputs": [],
   "source": [
    "pd.set_option('display.max_columns', 100000)  \n",
    "pd.set_option('display.max_rows', 10000) "
   ]
  },
  {
   "cell_type": "code",
   "execution_count": 6,
   "metadata": {},
   "outputs": [],
   "source": [
    "class XXDNumberBin():\n",
    "    '''\n",
    "    分箱类\n",
    "    '''\n",
    "    def __init__(self):\n",
    "        self.__bin_stats = None\n",
    "        \n",
    "    def get_bin_stats(self):\n",
    "        if self.__bin_stats is not None:\n",
    "            return self.__bin_stats.reset_index(drop=True)\n",
    "    \n",
    "    def get_cutoff(self):\n",
    "        if self.__bin_stats is not None:\n",
    "            return self.__bin_stats.Max.dropna().tolist()\n",
    "    \n",
    "    def trans_bin_to_woe(self,B):\n",
    "        '''\n",
    "        \n",
    "        B: Series\n",
    "        '''\n",
    "        if self.__bin_stats is None:\n",
    "            raise ValueError('ERROR: 尚未调用分箱函数，无法转换!')\n",
    "        woe =  self.__bin_stats['WoE'].sort_index()\n",
    "        return B.map(lambda x:woe[x])\n",
    "    \n",
    "    def plot_woe(self,title=None):\n",
    "        if self.__bin_stats is None:\n",
    "            raise ValueError('ERROR: 尚未调用分箱函数，无法转换!')\n",
    "        woe =  self.__bin_stats[['WoE','Range']].sort_index()\n",
    "        plt.clf()\n",
    "        if title is None:\n",
    "            title = self.__varname\n",
    "        plt.title('{}(WOE)'.format(title))\n",
    "        plt.bar(range(len(woe)), woe.WoE,tick_label=woe.Range)\n",
    "        plt.show()\n",
    "        print('Cutoff:{}'.format(self.get_cutoff()))\n",
    "        \n",
    "    def get_iv(self):\n",
    "        if self.__bin_stats is None:\n",
    "            raise ValueError('ERROR: 尚未调用分箱函数，无法转换!')\n",
    "        return self.__bin_stats['TotalIV'].iloc[0]\n",
    "    \n",
    "    def get_varname(self):\n",
    "        return self.__varname;\n",
    "    \n",
    "    def trans_to_bin(self,X):\n",
    "        '''\n",
    "        如果训练集有缺失：\n",
    "        1）缺失值分到缺失组，\n",
    "        2）小于最小值的分到第一组\n",
    "        3) 超过最大值的分最后一组。\n",
    "        如果训练集没有缺失：\n",
    "        1）缺失值\\小于最小值分到第一组；\n",
    "        2）超过最大值的分最后一组\n",
    "        \n",
    "        X: series\n",
    "        '''\n",
    "        if self.__bin_stats is None:\n",
    "            raise ValueError('ERROR: 尚未调用分箱函数，无法转换!')\n",
    "        if not is_numeric_dtype(X):\n",
    "            X = X.astype(float)\n",
    "        cuts = self.__bin_stats['Max'].sort_values(na_position ='first')\n",
    "        mx = cuts.max()\n",
    "        return X.map(lambda x:(cuts>=x).idxmax() if x<=mx else cuts.index[-1],na_action='ignore').fillna(cuts.index[0])\n",
    "    \n",
    "    def trans_to_woe(self,X):\n",
    "        '''\n",
    "        如果训练集有缺失：\n",
    "        1）缺失值分到缺失组，\n",
    "        2）小于最小值的分到第一组\n",
    "        3) 超过最大值的分最后一组。\n",
    "        如果训练集没有缺失：\n",
    "        1）缺失值\\小于最小值分到第一组；\n",
    "        2）超过最大值的分最后一组\n",
    "        X : series\n",
    "        '''\n",
    "        if self.__bin_stats is None:\n",
    "            raise ValueError('ERROR: 尚未调用分箱函数，无法转换!')\n",
    "        if not is_numeric_dtype(X):\n",
    "            X = X.astype(float)\n",
    "        cuts = self.__bin_stats['Max'].sort_values(na_position ='first')\n",
    "        mx = cuts.max()\n",
    "        woe =  self.__bin_stats['WoE'].sort_index()\n",
    "        return X.map(lambda x:woe[(cuts>=x).idxmax()] if x<=mx else woe.iloc[-1] ,na_action='ignore').fillna(woe.iloc[0])\n",
    "    \n",
    "    def __cc(self,dfx):\n",
    "            mx=dfx.XX.max()\n",
    "            mn=dfx.XX.min()\n",
    "            cnt=len(dfx)\n",
    "            bad=dfx.YY.sum()\n",
    "            good=cnt-bad            \n",
    "            return pd.Series({'Var':self.__varname,'Range':'<={:.3f}'.format(mx) if pd.notna(mx) else 'Miss',\n",
    "                              'Min':mn, 'Max':mx,'CntRec':cnt,'CntGood':good,'CntBad':bad})\n",
    "        \n",
    "    def calc_stats(self,data):\n",
    "        '''\n",
    "        计算woe，iv等。\n",
    "        data: df[['bin','XX',YY']]\n",
    "        '''\n",
    "        res = data.groupby(data['bin']).apply(self.__cc)      \n",
    "        cntg= (data.YY==0).sum()\n",
    "        cntb= (data.YY==1).sum()\n",
    "        res['Pct']=res.CntRec/len(data)\n",
    "        res['PctBad']=res.CntBad/cntb\n",
    "        res['PctGood']=res.CntGood/cntg\n",
    "        res['BadRate']=res.CntBad/res.CntRec\n",
    "        res['CumGood']=res.CntGood.cumsum()\n",
    "        res['CumBad']=res.CntBad.cumsum()\n",
    "        res['Odds']=res.BadRate/(1-res.BadRate)\n",
    "        res['LnOdds']=np.log(res.Odds)\n",
    "        woe = np.log(res.PctBad/res.PctGood)\n",
    "        woe[res.PctBad==0] = 20\n",
    "        woe[res.PctGood==0] = -20\n",
    "        res['WoE'] = woe\n",
    "        res['IV'] = (res.PctBad-res.PctGood)*res.WoE\n",
    "        res['TotalIV'] = res.IV[(res.PctBad>0)&(res.PctGood>0)].sum()\n",
    "        #res=res.append(pd.Series({'Var':x,'Min':XX.min(),'Max':XX.max(),'LnOdds':np.log(),'IV':res.IV.sum()},name='ALL'))\n",
    "        return res\n",
    "    def manual_bin(self,df,x,y,cutoff=[]):\n",
    "        '''\n",
    "        手动分箱\n",
    "        df: 数据\n",
    "        x: 变量名\n",
    "        y: 目标变量\n",
    "        '''\n",
    "        self.__varname = x\n",
    "        XX,YY = df[x],df[y]\n",
    "        assert YY.isin([0,1]).all(),'ERROR: {} 目标变量非0/1!'.format(y)\n",
    "        if not is_numeric_dtype(XX):\n",
    "            XX = XX.astype(float) \n",
    "        data = pd.DataFrame({'XX':XX,'YY':YY})\n",
    "        cnt = XX.count()\n",
    "        assert cnt>0,'ERROR: \"{}\" 变量值全为 NULL  !'.format(x)\n",
    "        edges = pd.Series(cutoff+[np.inf]).sort_values()\n",
    "        mx = edges.max()\n",
    "        data['bin'] = XX.map(lambda x:(edges>=x).idxmax() if x<=mx else edges.index[-1],na_action='ignore').fillna(-1)\n",
    "        self.__bin_stats= self.calc_stats(data)\n",
    "        \n",
    "    def pct_bin(self,df,x,y,max_bin=10,min_pct=0.06):        \n",
    "        '''\n",
    "        等频分箱。\n",
    "        df: 数据\n",
    "        x: 变量名\n",
    "        y: 目标变量\n",
    "        '''\n",
    "        self.__varname = x\n",
    "        XX,YY = df[x],df[y]\n",
    "        assert YY.isin([0,1]).all(),'ERROR: {}  目标变量非0/1!'.format(y)\n",
    "        if not is_numeric_dtype(XX):\n",
    "            XX = XX.astype(float) \n",
    "        data = pd.DataFrame({'XX':XX,'YY':YY})\n",
    "        cnt = XX.count()\n",
    "        assert cnt>0,'ERROR: \"{}\" 变量值全为 NULL  !'.format(x)\n",
    "        min_sample = int(len(XX)*min_pct)\n",
    "        if cnt<= min_sample:\n",
    "            print('WARN: \"{}\" 非空值少于 {} !'.format(x,min_pct))\n",
    "        nuniq = XX.nunique()\n",
    "        if nuniq<= 50:\n",
    "            print('WARN: \"{}\" 数值型变量只有 {} 个取值!'.format(x,nuniq))\n",
    "        cut_ok = False\n",
    "        ZZ = XX.rank(pct=1)\n",
    "        while not cut_ok:\n",
    "            edges = pd.Series(np.linspace(0,1,max_bin+1))\n",
    "            bins =ZZ.map(lambda r:(edges>=r).idxmax(),na_action='ignore').fillna(-1)\n",
    "            cut_ok = True\n",
    "            if bins.value_counts().min() < min_sample and cnt>min_sample and max_bin>1:\n",
    "                max_bin=max_bin-1\n",
    "                cut_ok=False\n",
    "        data['bin']=bins\n",
    "        self.__bin_stats= self.calc_stats(data)\n",
    "        \n",
    "    def monotone_bin(self,df,x,y,max_bin=10):\n",
    "        '''\n",
    "        单调分箱。\n",
    "        df: 数据\n",
    "        x: 变量名\n",
    "        y: 目标变量\n",
    "        '''\n",
    "        self.__varname = x\n",
    "        XX,YY = df[x],df[y]\n",
    "        assert YY.isin([0,1]).all(),'ERROR: {} 目标变量非0/1!'.format(y)\n",
    "        if not is_numeric_dtype(XX):\n",
    "            XX = XX.astype(float) \n",
    "        data = pd.DataFrame({'XX':XX,'YY':YY})\n",
    "        cnt = XX.count()\n",
    "        assert cnt>0,'ERROR: \"{}\" 变量值全为 NULL  !'.format(x)\n",
    "        cut_ok = False\n",
    "        ZZ = XX.rank(pct=1)\n",
    "        while not cut_ok:\n",
    "            edges = pd.Series(np.linspace(0,1,max_bin+1))\n",
    "            data['bin']=ZZ.map(lambda r:(edges>=r).idxmax(),na_action='ignore').fillna(-1)\n",
    "            res=self.calc_stats(data).sort_index()\n",
    "            woe = res[~res.Max.isna()].WoE\n",
    "            cut_ok = woe.is_monotonic_decreasing or woe.is_monotonic_increasing\n",
    "            max_bin = max_bin-1\n",
    "        self.__bin_stats= res\n",
    "    \n",
    "\n",
    "class XXDCharBin():\n",
    "    def __init__(self):\n",
    "        self.__bin_stats=None\n",
    "    \n",
    "    def get_bin_stats(self):\n",
    "        if self.__bin_stats is not None:\n",
    "            return self.__bin_stats.copy()\n",
    "        \n",
    "    def trans_bin_to_woe(self,B):\n",
    "        if self.__bin_stats is None:\n",
    "            raise ValueError('ERROR: 尚未调用分箱函数，无法转换!')\n",
    "        data = B.to_frame()\n",
    "        woe =  self.__bin_stats['WoE'].sort_index()\n",
    "        return B.map(lambda x:woe[x],na_action='ignore').fillna(woe.iloc[0])\n",
    "    \n",
    "    def plot_woe(self,title=None):\n",
    "        if self.__bin_stats is None:\n",
    "            raise ValueError('ERROR: 尚未调用分箱函数，无法转换!')\n",
    "        woe =  self.__bin_stats[['WoE','Range']].sort_values(by='WoE')\n",
    "        plt.clf()\n",
    "        if title is None:\n",
    "            title = self.__varname\n",
    "        plt.title('{}(WOE)'.format(title))\n",
    "        plt.bar(range(len(woe)), woe.WoE)\n",
    "        plt.show()\n",
    "        print(woe.Range.reset_index(drop=True))\n",
    "        \n",
    "    def get_iv(self):\n",
    "        if self.__bin_stats is None:\n",
    "            raise ValueError('ERROR: 尚未调用分箱函数，无法转换!')\n",
    "        return self.__bin_stats['TotalIV'].iloc[0]\n",
    "    \n",
    "    def get_varname(self):\n",
    "        return self.__varname;\n",
    "    \n",
    "    def trans_to_bin(self,X):\n",
    "        '''\n",
    "        新值分到缺失\n",
    "        X: series\n",
    "        '''\n",
    "        if self.__bin_stats is None:\n",
    "            raise ValueError('ERROR: 尚未调用分箱函数，无法转换!')\n",
    "        if not is_string_dtype(X):\n",
    "            X = X.astype(str)\n",
    "        data = X.to_frame()\n",
    "        data['bin'] = -1\n",
    "        for bin,values in enumerate(self.__bins):\n",
    "            data.loc[X.isin(values),'bin']=bin\n",
    "        return data['bin']\n",
    "    \n",
    "    def trans_to_woe(self,X):\n",
    "        '''\n",
    "        新值分到缺失\n",
    "        X: series\n",
    "        '''\n",
    "        if self.__bin_stats is None:\n",
    "            raise ValueError('ERROR: 尚未调用分箱函数，无法转换!')\n",
    "        if not is_string_dtype(X):\n",
    "            X = X.astype(str)\n",
    "        data = X.to_frame()\n",
    "        woe =  self.__bin_stats['WoE'].sort_index()\n",
    "        data['woe'] = woe.iloc[0]\n",
    "        for bin,values in enumerate(self.__bins):\n",
    "            data.loc[X.isin(values),'woe']=woe[bin]\n",
    "        return data['woe']\n",
    "    \n",
    "    def __cc(self,dfx):\n",
    "            cnt=len(dfx)\n",
    "            bad=dfx.YY.sum()\n",
    "            good=cnt-bad            \n",
    "            return pd.Series({'Var':self.__varname,'Range':dfx.XX.unique(),'CntRec':cnt,'CntGood':good,'CntBad':bad})\n",
    "        \n",
    "    def calc_stats(self,data):\n",
    "        '''\n",
    "        计算woe，iv等。\n",
    "        '''\n",
    "        res = data.groupby(data['bin']).apply(self.__cc)      \n",
    "        cntg= (data.YY==0).sum()\n",
    "        cntb= (data.YY==1).sum()\n",
    "        res['Pct']=res.CntRec/len(data)\n",
    "        res['PctBad']=res.CntBad/cntb\n",
    "        res['PctGood']=res.CntGood/cntg\n",
    "        res['BadRate']=res.CntBad/res.CntRec\n",
    "        res['CumGood']=res.CntGood.cumsum()\n",
    "        res['CumBad']=res.CntBad.cumsum()\n",
    "        res['Odds']=res.BadRate/(1-res.BadRate)\n",
    "        res['LnOdds']=np.log(res.Odds)\n",
    "        woe = np.log(res.PctBad/res.PctGood)\n",
    "        woe[res.PctBad==0] = 20\n",
    "        woe[res.PctGood==0] = -20\n",
    "        res['WoE'] = woe\n",
    "        res['IV'] = (res.PctBad-res.PctGood)*res.WoE\n",
    "        res['TotalIV'] = res.IV[(res.PctBad>0)&(res.PctGood>0)].sum()\n",
    "        return res\n",
    "    def manual_bin(self,df,x,y,bins=[]):\n",
    "        '''\n",
    "        手动分箱\n",
    "        df: 数据\n",
    "        x: 变量名\n",
    "        y: 目标变量\n",
    "        bins: [['a'],['b'],['c','d'],['e']]\n",
    "        '''\n",
    "        self.__varname = x\n",
    "        data = pd.DataFrame({'XX':df[x],'YY':df[y]})\n",
    "        assert data.YY.isin([0,1]).all(),'ERROR: {} 目标变量非0/1!'.format(y)\n",
    "        if not is_string_dtype(data.XX):\n",
    "            data['XX'] = data.XX.astype(str) \n",
    "        cnt = data.XX.count()\n",
    "        assert cnt>0,'ERROR: \"{}\" 变量值全为 NULL  !'.format(x)\n",
    "        data['bin'] = -1\n",
    "        for i,values in enumerate(bins):\n",
    "            data.loc[data.XX.isin(values),'bin']=i\n",
    "        data.loc[data.XX.isnull(),'bin'] = -2\n",
    "        self.__bins=bins.copy()\n",
    "        res = self.calc_stats(data)\n",
    "        self.__bin_stats= res\n",
    "        \n",
    "    def pct_bin(self,df,x,y,sp_bins = [],max_bin=10): \n",
    "        '''\n",
    "        字符型自动分箱，\n",
    "        sp_bins: 特殊值分箱. [['a'],['b'],['c','d'],['e']]\n",
    "        df: 数据\n",
    "        x: 变量名\n",
    "        y: 目标变量\n",
    "        '''\n",
    "        spvars = []\n",
    "        for binb in sp_bins:\n",
    "                spvars = spvars + binb\n",
    "        assert len(set(spvars))==len(spvars),'ERROR: \"{}\" : sp_bins are overlapping!'.format(x)\n",
    "        data = pd.DataFrame({'XX':df[x],'YY':df[y]})\n",
    "        assert data.YY.isin([0,1]).all(),'ERROR: {} 目标变量非0/1!'.format(y)\n",
    "        data = data.dropna()\n",
    "        cnt = data.shape[0]\n",
    "        assert cnt>0,'ERROR: \"{}\" 变量值全为 NULL  !'.format(x)\n",
    "        if not is_string_dtype(data.XX):\n",
    "            data['XX'] = data.XX.astype(str) \n",
    "        nuniq = data.XX.nunique()\n",
    "        if nuniq> 50:\n",
    "            print('WARN: \"{}\" 字符型变量取值数超过 {} 个!'.format(x,nuniq))\n",
    "    \n",
    "        db = data[~data.XX.isin(spvars)]\n",
    "        dbr=db.groupby('XX').YY.mean().reset_index()\n",
    "        dbr['rr'] = dbr.YY.rank(pct=1)\n",
    "        edges = pd.Series(np.linspace(0,1,max_bin+1))\n",
    "        dbr['bin'] =dbr.rr.map(lambda r:(edges>=r).idxmax())\n",
    "        xx = dbr.groupby('bin').apply(lambda yy:yy.XX.tolist())\n",
    "        sp_bins = sp_bins +xx.tolist()\n",
    "        self.manual_bin(df,x,y,sp_bins.copy())"
   ]
  },
  {
   "cell_type": "code",
   "execution_count": 7,
   "metadata": {},
   "outputs": [],
   "source": [
    "class XXDBinUtils():\n",
    "    '''\n",
    "    批量分箱类\n",
    "    '''\n",
    "    def __init__(self,df,y):\n",
    "        self.__df = df\n",
    "        self.__y=y\n",
    "        self.__bins={}\n",
    "    def auto_bin(self,ignore=[],params={}):\n",
    "        for col in self.__df.columns:\n",
    "            if col == self.__y or col in ignore:\n",
    "                continue\n",
    "            max_bin = params['max_bin'] if 'max_bin' in params else 10\n",
    "            min_pct = params['min_pct'] if 'min_pct' in params else 0.06\n",
    "            print('now binning {}...'.format(col))\n",
    "            if is_numeric_dtype(self.__df[col]):\n",
    "                nb = XXDNumberBin()\n",
    "                nb.pct_bin(self.__df,col,self.__y,max_bin=max_bin,min_pct=min_pct)\n",
    "                self.__bins[col] = nb\n",
    "                \n",
    "            else: \n",
    "                cb = XXDCharBin()\n",
    "                cb.pct_bin(self.__df,col,self.__y,max_bin=max_bin)\n",
    "                self.__bins[col] = cb\n",
    "        print('done.')\n",
    "        \n",
    "    def manual_bin(self,col,bins_or_cutoff):\n",
    "        assert col != self.__y,'ERROR: 不能对目标变量分箱！'\n",
    "        if col in self.__bins:\n",
    "            self.__bins[col].manual_bin(self.__df,col,self.__y,bins_or_cutoff)\n",
    "        elif is_numeric_dtype(self.__df[col]):\n",
    "                nb = XXDNumberBin()\n",
    "                nb.manual_bin(self.__df,col,self.__y,bins_or_cutoff)\n",
    "                self.__bins[col] = nb\n",
    "                \n",
    "        else: \n",
    "                cb = XXDCharBin()\n",
    "                cb.manual_bin(self.__df,col,self.__y,bins_or_cutoff)\n",
    "                self.__bins[col] = cb\n",
    "        print('done.')\n",
    "    def get_bin(self,col):\n",
    "        return self.__bins.get(col)\n",
    "    \n",
    "    def trans_to_woe(self,df,inplace=False):\n",
    "        res = pd.DataFrame()\n",
    "        if inplace:\n",
    "            res = df\n",
    "        for col in df.columns:\n",
    "            if col in self.__bins:\n",
    "                res['woe_{}'.format(col)] = self.__bins[col].trans_to_woe(df[col])\n",
    "        return res\n",
    "    \n",
    "    def get_all_bin_stats(self):\n",
    "        res = pd.DataFrame()\n",
    "        for col in self.__bins:\n",
    "            res = res.append(self.__bins[col].get_bin_stats())\n",
    "        return res\n",
    "    \n",
    "    def dump(self,filename):\n",
    "        f = open(filename, 'wb')\n",
    "        pickle.dump(self.__bins,f)\n",
    "        f.close()\n",
    "        print('done.')\n",
    "        \n",
    "    def load(self,filename):\n",
    "        f = open(filename, 'rb')\n",
    "        d = pickle.load(f)\n",
    "        f.close()\n",
    "        self.__bins = d\n",
    "        print('done.')\n",
    "        \n",
    "    def iv_ks_auc(self):\n",
    "        result = []\n",
    "        y = self.__df[self.__y].values\n",
    "        for col in self.__bins:\n",
    "                woe = self.__bins[col].trans_to_woe(self.__df[col])\n",
    "                iv = self.__bins[col].get_iv()\n",
    "                ks = stats.ks_2samp(woe[y==0], woe[y==1]).statistic\n",
    "                auc = metrics.roc_auc_score(y,woe)\n",
    "                result.append((col,iv,ks,auc))\n",
    "        return pd.DataFrame(result,columns=['var','iv','ks','auc'])\n",
    "    \n",
    "    def plot_woe(self,col,title=None):\n",
    "        if col in self.__bins:\n",
    "            self.__bins[col].plot_woe(title)\n",
    "    def plot_all_woe(self,min_iv=0.0,max_iv=10.0):\n",
    "        '''\n",
    "\n",
    "        :param min_iv:\n",
    "        :return:\n",
    "        '''\n",
    "        for col in self.__bins:\n",
    "            binn = self.__bins[col]\n",
    "            iv = binn.get_iv()\n",
    "            if min_iv <= iv<= max_iv:\n",
    "                print('\"{}\"  :  iv={}'.format(col,iv))\n",
    "                self.__bins[col].plot_woe()\n"
   ]
  },
  {
   "cell_type": "code",
   "execution_count": 8,
   "metadata": {},
   "outputs": [],
   "source": [
    "def sample_split(df,y, test_size=0.3):\n",
    "    \"\"\"\n",
    "    split dataset into train and test without over sampling\n",
    "    Train_Test_Split_nooversample\n",
    "\n",
    "    df：数据集\n",
    "    y：Y变量名称\n",
    "    test_size：测试集占总样本的比例\n",
    "    \"\"\"\n",
    "    train_df,test_df = train_test_split(df,random_state=123,test_size=test_size,stratify=y)\n",
    "#     target = target_name\n",
    "#     Y = df[target]\n",
    "#     X_df = df.drop(target, axis=1)\n",
    "#     x_train, x_test, y_train, y_test = train_test_split(\n",
    "#         X_df, Y, test_size=test_size, stratify=Y, random_state=123\n",
    "#     )\n",
    "    return train_df,test_df\n",
    "\n",
    "def sample_split_over(df, target_name, test_size=0.3, n=1): # 过抽样，暂时保密    \n",
    "    \"\"\"\n",
    "    split dataset into train and test with over sampling\n",
    "    Train_Test_Split_oversample\n",
    "\n",
    "    df：数据集\n",
    "    target_name：Y变量名称\n",
    "    test_size：测试集占总样本的比例\n",
    "    n:好客户比坏客户的倍数\n",
    "    \"\"\"\n",
    "def sample_split_summary(y_train,y_test):\n",
    "    '''\n",
    "    该函数为训练集和测试集划分的统计结果\n",
    "\n",
    "    Args:\n",
    "\n",
    "    y_train(DataFrame):训练集y数据\n",
    "    y_test(DataFrame):测试集的y数据\n",
    "\n",
    "    Returns：\n",
    "    New DataFrame:训练集和测试集的划分结果\n",
    "    '''\n",
    "    train = ['train',len(y_train),y_train.value_counts()[0]\\\n",
    "             ,y_train.value_counts()[1],1.0*y_train.value_counts()[1]/len(y_train),\\\n",
    "           1.0*len(y_train)/(len(y_train)+len(y_test))]\n",
    "    test = ['test',len(y_test),y_test.value_counts()[0]\\\n",
    "             ,y_test.value_counts()[1],1.0*y_test.value_counts()[1]/len(y_test),\\\n",
    "            1.0*len(y_test)/(len(y_train)+len(y_test))]\n",
    "    sum_ = ['sum',len(y_train)+len(y_test),\n",
    "            y_train.value_counts()[0]+y_test.value_counts()[0],\n",
    "            y_train.value_counts()[1]+y_test.value_counts()[1],\n",
    "            1.0*(y_train.value_counts()[1]+y_test.value_counts()[1])/(len(y_train)+len(y_test)),\n",
    "            1.0*len(y_train)/(len(y_train)+len(y_test))+1.0*len(y_test)/(len(y_train)+len(y_test))\n",
    "            ]\n",
    "    return pd.DataFrame([train,test,sum_],columns=['split','total','good','bad','rate','dist'])\n"
   ]
  },
  {
   "cell_type": "code",
   "execution_count": 9,
   "metadata": {},
   "outputs": [
    {
     "data": {
      "text/plain": [
       "(656, 39)"
      ]
     },
     "execution_count": 9,
     "metadata": {},
     "output_type": "execute_result"
    }
   ],
   "source": [
    "demo_df = pd.read_csv('D:/shaojie/NutsCloud/My/binut_demo/data.csv')\n",
    "demo_df.head()\n",
    "demo_df.columns.tolist()\n",
    "char_var = demo_df.select_dtypes('object')\n",
    "char_var.columns.tolist()\n",
    "demo_df.shape"
   ]
  },
  {
   "cell_type": "code",
   "execution_count": 10,
   "metadata": {},
   "outputs": [
    {
     "data": {
      "text/plain": [
       "['cust_id',\n",
       " 'loan_id',\n",
       " 'domain',\n",
       " 'primary_city',\n",
       " 'state',\n",
       " 'bank_nm',\n",
       " 'email_dur']"
      ]
     },
     "execution_count": 10,
     "metadata": {},
     "output_type": "execute_result"
    }
   ],
   "source": [
    "# 找出id的变量\n",
    "drop_list = [col for col  in demo_df.columns if ('_id' in col) or ('id_' in col) ]+['domain','primary_city','state',\n",
    "                                                                                   'bank_nm','email_dur']\n",
    "drop_list"
   ]
  },
  {
   "cell_type": "markdown",
   "metadata": {},
   "source": [
    "# 拆分数据集"
   ]
  },
  {
   "cell_type": "code",
   "execution_count": 11,
   "metadata": {},
   "outputs": [
    {
     "data": {
      "text/html": [
       "<div>\n",
       "<style scoped>\n",
       "    .dataframe tbody tr th:only-of-type {\n",
       "        vertical-align: middle;\n",
       "    }\n",
       "\n",
       "    .dataframe tbody tr th {\n",
       "        vertical-align: top;\n",
       "    }\n",
       "\n",
       "    .dataframe thead th {\n",
       "        text-align: right;\n",
       "    }\n",
       "</style>\n",
       "<table border=\"1\" class=\"dataframe\">\n",
       "  <thead>\n",
       "    <tr style=\"text-align: right;\">\n",
       "      <th></th>\n",
       "      <th>split</th>\n",
       "      <th>total</th>\n",
       "      <th>good</th>\n",
       "      <th>bad</th>\n",
       "      <th>rate</th>\n",
       "      <th>dist</th>\n",
       "    </tr>\n",
       "  </thead>\n",
       "  <tbody>\n",
       "    <tr>\n",
       "      <th>0</th>\n",
       "      <td>train</td>\n",
       "      <td>459</td>\n",
       "      <td>248</td>\n",
       "      <td>211</td>\n",
       "      <td>0.459695</td>\n",
       "      <td>0.699695</td>\n",
       "    </tr>\n",
       "    <tr>\n",
       "      <th>1</th>\n",
       "      <td>test</td>\n",
       "      <td>197</td>\n",
       "      <td>106</td>\n",
       "      <td>91</td>\n",
       "      <td>0.461929</td>\n",
       "      <td>0.300305</td>\n",
       "    </tr>\n",
       "    <tr>\n",
       "      <th>2</th>\n",
       "      <td>sum</td>\n",
       "      <td>656</td>\n",
       "      <td>354</td>\n",
       "      <td>302</td>\n",
       "      <td>0.460366</td>\n",
       "      <td>1.000000</td>\n",
       "    </tr>\n",
       "  </tbody>\n",
       "</table>\n",
       "</div>"
      ],
      "text/plain": [
       "   split  total  good  bad      rate      dist\n",
       "0  train    459   248  211  0.459695  0.699695\n",
       "1   test    197   106   91  0.461929  0.300305\n",
       "2    sum    656   354  302  0.460366  1.000000"
      ]
     },
     "execution_count": 11,
     "metadata": {},
     "output_type": "execute_result"
    }
   ],
   "source": [
    "train_df,test_df=sample_split(demo_df,demo_df['flgGood'],test_size=0.3)\n",
    "summary_y =sample_split_summary(train_df['flgGood'],test_df['flgGood'])\n",
    "# summary_y.to_excel(result_path+'/y_summary.xlsx')\n",
    "summary_y"
   ]
  },
  {
   "cell_type": "markdown",
   "metadata": {},
   "source": [
    "# 开始进行分箱,此处拿等频分箱做案例"
   ]
  },
  {
   "cell_type": "markdown",
   "metadata": {},
   "source": [
    "## 调用分箱"
   ]
  },
  {
   "cell_type": "code",
   "execution_count": 12,
   "metadata": {},
   "outputs": [
    {
     "name": "stdout",
     "output_type": "stream",
     "text": [
      "now binning applicant_age...\n",
      "now binning amt_req...\n",
      "WARN: \"amt_req\" 数值型变量只有 11 个取值!\n",
      "now binning rent_own...\n",
      "WARN: \"rent_own\" 数值型变量只有 2 个取值!\n",
      "now binning mthly_rent_amt...\n",
      "now binning bank_acct_dd...\n",
      "WARN: \"bank_acct_dd\" 数值型变量只有 2 个取值!\n",
      "now binning loan_dur...\n",
      "WARN: \"loan_dur\" 数值型变量只有 7 个取值!\n",
      "now binning pmt_ach...\n",
      "WARN: \"pmt_ach\" 数值型变量只有 2 个取值!\n",
      "now binning nm_pmt...\n",
      "WARN: \"nm_pmt\" 数值型变量只有 15 个取值!\n",
      "now binning pmt_amt...\n",
      "now binning amt_aprv...\n",
      "WARN: \"amt_aprv\" 数值型变量只有 8 个取值!\n",
      "now binning dur_aprv...\n",
      "WARN: \"dur_aprv\" 数值型变量只有 7 个取值!\n",
      "now binning pmt_amt_aprv...\n",
      "now binning county...\n",
      "WARN: \"county\" 字符型变量取值数超过 61 个!\n",
      "now binning res_dur...\n",
      "now binning bank_acct_dur...\n",
      "now binning pmt_freq...\n",
      "now binning home_phone_type...\n",
      "now binning has_other_phone...\n",
      "WARN: \"has_other_phone\" 数值型变量只有 2 个取值!\n"
     ]
    },
    {
     "name": "stderr",
     "output_type": "stream",
     "text": [
      "d:\\ProgramData\\Anaconda3\\lib\\site-packages\\ipykernel_launcher.py:285: RuntimeWarning: divide by zero encountered in log\n",
      "d:\\ProgramData\\Anaconda3\\lib\\site-packages\\ipykernel_launcher.py:286: RuntimeWarning: divide by zero encountered in log\n"
     ]
    },
    {
     "name": "stdout",
     "output_type": "stream",
     "text": [
      "now binning how_use_money...\n",
      "now binning mthly_income_amt...\n",
      "now binning raw_l2c_score...\n",
      "now binning raw_FICO_telecom...\n",
      "now binning raw_FICO_retail...\n",
      "now binning raw_FICO_bank_card...\n",
      "now binning raw_FICO_money...\n",
      "now binning req_inc_ratio...\n",
      "now binning rent_ratio...\n",
      "now binning pmt_ratio...\n",
      "now binning pmt_amt_apv_match...\n",
      "WARN: \"pmt_amt_apv_match\" 数值型变量只有 2 个取值!\n",
      "now binning amt_apv_match...\n",
      "WARN: \"amt_apv_match\" 数值型变量只有 2 个取值!\n",
      "now binning name...\n",
      "done.\n"
     ]
    }
   ],
   "source": [
    "y = 'flgGood'\n",
    "binut = XXDBinUtils(train_df,y)\n",
    "binut.auto_bin( ignore=drop_list,params={'max_bin':10,'min_sample':50})"
   ]
  },
  {
   "cell_type": "markdown",
   "metadata": {},
   "source": [
    "## 调用iv_ks_auc方法"
   ]
  },
  {
   "cell_type": "code",
   "execution_count": 13,
   "metadata": {},
   "outputs": [
    {
     "data": {
      "text/html": [
       "<div>\n",
       "<style scoped>\n",
       "    .dataframe tbody tr th:only-of-type {\n",
       "        vertical-align: middle;\n",
       "    }\n",
       "\n",
       "    .dataframe tbody tr th {\n",
       "        vertical-align: top;\n",
       "    }\n",
       "\n",
       "    .dataframe thead th {\n",
       "        text-align: right;\n",
       "    }\n",
       "</style>\n",
       "<table border=\"1\" class=\"dataframe\">\n",
       "  <thead>\n",
       "    <tr style=\"text-align: right;\">\n",
       "      <th></th>\n",
       "      <th>var</th>\n",
       "      <th>iv</th>\n",
       "      <th>ks</th>\n",
       "      <th>auc</th>\n",
       "    </tr>\n",
       "  </thead>\n",
       "  <tbody>\n",
       "    <tr>\n",
       "      <th>0</th>\n",
       "      <td>applicant_age</td>\n",
       "      <td>0.126784</td>\n",
       "      <td>0.142715</td>\n",
       "      <td>0.596832</td>\n",
       "    </tr>\n",
       "    <tr>\n",
       "      <th>1</th>\n",
       "      <td>amt_req</td>\n",
       "      <td>0.026615</td>\n",
       "      <td>0.057617</td>\n",
       "      <td>0.540514</td>\n",
       "    </tr>\n",
       "    <tr>\n",
       "      <th>2</th>\n",
       "      <td>rent_own</td>\n",
       "      <td>0.039365</td>\n",
       "      <td>0.093564</td>\n",
       "      <td>0.546782</td>\n",
       "    </tr>\n",
       "    <tr>\n",
       "      <th>3</th>\n",
       "      <td>mthly_rent_amt</td>\n",
       "      <td>0.020207</td>\n",
       "      <td>0.062146</td>\n",
       "      <td>0.538765</td>\n",
       "    </tr>\n",
       "    <tr>\n",
       "      <th>4</th>\n",
       "      <td>bank_acct_dd</td>\n",
       "      <td>0.016673</td>\n",
       "      <td>0.051158</td>\n",
       "      <td>0.525579</td>\n",
       "    </tr>\n",
       "  </tbody>\n",
       "</table>\n",
       "</div>"
      ],
      "text/plain": [
       "              var        iv        ks       auc\n",
       "0   applicant_age  0.126784  0.142715  0.596832\n",
       "1         amt_req  0.026615  0.057617  0.540514\n",
       "2        rent_own  0.039365  0.093564  0.546782\n",
       "3  mthly_rent_amt  0.020207  0.062146  0.538765\n",
       "4    bank_acct_dd  0.016673  0.051158  0.525579"
      ]
     },
     "execution_count": 13,
     "metadata": {},
     "output_type": "execute_result"
    }
   ],
   "source": [
    "binut.iv_ks_auc().head()"
   ]
  },
  {
   "cell_type": "markdown",
   "metadata": {},
   "source": [
    "## 调用分箱统计量方法"
   ]
  },
  {
   "cell_type": "code",
   "execution_count": 14,
   "metadata": {},
   "outputs": [
    {
     "name": "stderr",
     "output_type": "stream",
     "text": [
      "d:\\ProgramData\\Anaconda3\\lib\\site-packages\\pandas\\core\\frame.py:6211: FutureWarning: Sorting because non-concatenation axis is not aligned. A future version\n",
      "of pandas will change to not sort by default.\n",
      "\n",
      "To accept the future behavior, pass 'sort=False'.\n",
      "\n",
      "To retain the current behavior and silence the warning, pass 'sort=True'.\n",
      "\n",
      "  sort=sort)\n"
     ]
    },
    {
     "data": {
      "text/html": [
       "<div>\n",
       "<style scoped>\n",
       "    .dataframe tbody tr th:only-of-type {\n",
       "        vertical-align: middle;\n",
       "    }\n",
       "\n",
       "    .dataframe tbody tr th {\n",
       "        vertical-align: top;\n",
       "    }\n",
       "\n",
       "    .dataframe thead th {\n",
       "        text-align: right;\n",
       "    }\n",
       "</style>\n",
       "<table border=\"1\" class=\"dataframe\">\n",
       "  <thead>\n",
       "    <tr style=\"text-align: right;\">\n",
       "      <th></th>\n",
       "      <th>BadRate</th>\n",
       "      <th>CntBad</th>\n",
       "      <th>CntGood</th>\n",
       "      <th>CntRec</th>\n",
       "      <th>CumBad</th>\n",
       "      <th>CumGood</th>\n",
       "      <th>IV</th>\n",
       "      <th>LnOdds</th>\n",
       "      <th>Max</th>\n",
       "      <th>Min</th>\n",
       "      <th>Odds</th>\n",
       "      <th>Pct</th>\n",
       "      <th>PctBad</th>\n",
       "      <th>PctGood</th>\n",
       "      <th>Range</th>\n",
       "      <th>TotalIV</th>\n",
       "      <th>Var</th>\n",
       "      <th>WoE</th>\n",
       "    </tr>\n",
       "  </thead>\n",
       "  <tbody>\n",
       "    <tr>\n",
       "      <th>0</th>\n",
       "      <td>0.363636</td>\n",
       "      <td>16</td>\n",
       "      <td>28</td>\n",
       "      <td>44</td>\n",
       "      <td>16</td>\n",
       "      <td>28</td>\n",
       "      <td>0.014757</td>\n",
       "      <td>-0.559616</td>\n",
       "      <td>26.0</td>\n",
       "      <td>19.0</td>\n",
       "      <td>0.571429</td>\n",
       "      <td>0.095861</td>\n",
       "      <td>0.075829</td>\n",
       "      <td>0.112903</td>\n",
       "      <td>&lt;=26.000</td>\n",
       "      <td>0.126784</td>\n",
       "      <td>applicant_age</td>\n",
       "      <td>-0.398045</td>\n",
       "    </tr>\n",
       "    <tr>\n",
       "      <th>1</th>\n",
       "      <td>0.418605</td>\n",
       "      <td>18</td>\n",
       "      <td>25</td>\n",
       "      <td>43</td>\n",
       "      <td>34</td>\n",
       "      <td>53</td>\n",
       "      <td>0.002587</td>\n",
       "      <td>-0.328504</td>\n",
       "      <td>30.0</td>\n",
       "      <td>27.0</td>\n",
       "      <td>0.720000</td>\n",
       "      <td>0.093682</td>\n",
       "      <td>0.085308</td>\n",
       "      <td>0.100806</td>\n",
       "      <td>&lt;=30.000</td>\n",
       "      <td>0.126784</td>\n",
       "      <td>applicant_age</td>\n",
       "      <td>-0.166933</td>\n",
       "    </tr>\n",
       "    <tr>\n",
       "      <th>2</th>\n",
       "      <td>0.396226</td>\n",
       "      <td>21</td>\n",
       "      <td>32</td>\n",
       "      <td>53</td>\n",
       "      <td>55</td>\n",
       "      <td>85</td>\n",
       "      <td>0.007661</td>\n",
       "      <td>-0.421213</td>\n",
       "      <td>34.0</td>\n",
       "      <td>31.0</td>\n",
       "      <td>0.656250</td>\n",
       "      <td>0.115468</td>\n",
       "      <td>0.099526</td>\n",
       "      <td>0.129032</td>\n",
       "      <td>&lt;=34.000</td>\n",
       "      <td>0.126784</td>\n",
       "      <td>applicant_age</td>\n",
       "      <td>-0.259643</td>\n",
       "    </tr>\n",
       "    <tr>\n",
       "      <th>3</th>\n",
       "      <td>0.421053</td>\n",
       "      <td>16</td>\n",
       "      <td>22</td>\n",
       "      <td>38</td>\n",
       "      <td>71</td>\n",
       "      <td>107</td>\n",
       "      <td>0.002021</td>\n",
       "      <td>-0.318454</td>\n",
       "      <td>38.0</td>\n",
       "      <td>35.0</td>\n",
       "      <td>0.727273</td>\n",
       "      <td>0.082789</td>\n",
       "      <td>0.075829</td>\n",
       "      <td>0.088710</td>\n",
       "      <td>&lt;=38.000</td>\n",
       "      <td>0.126784</td>\n",
       "      <td>applicant_age</td>\n",
       "      <td>-0.156883</td>\n",
       "    </tr>\n",
       "    <tr>\n",
       "      <th>4</th>\n",
       "      <td>0.352941</td>\n",
       "      <td>18</td>\n",
       "      <td>33</td>\n",
       "      <td>51</td>\n",
       "      <td>89</td>\n",
       "      <td>140</td>\n",
       "      <td>0.021231</td>\n",
       "      <td>-0.606136</td>\n",
       "      <td>41.0</td>\n",
       "      <td>39.0</td>\n",
       "      <td>0.545455</td>\n",
       "      <td>0.111111</td>\n",
       "      <td>0.085308</td>\n",
       "      <td>0.133065</td>\n",
       "      <td>&lt;=41.000</td>\n",
       "      <td>0.126784</td>\n",
       "      <td>applicant_age</td>\n",
       "      <td>-0.444565</td>\n",
       "    </tr>\n",
       "  </tbody>\n",
       "</table>\n",
       "</div>"
      ],
      "text/plain": [
       "    BadRate  CntBad  CntGood  CntRec  CumBad  CumGood        IV    LnOdds  \\\n",
       "0  0.363636      16       28      44      16       28  0.014757 -0.559616   \n",
       "1  0.418605      18       25      43      34       53  0.002587 -0.328504   \n",
       "2  0.396226      21       32      53      55       85  0.007661 -0.421213   \n",
       "3  0.421053      16       22      38      71      107  0.002021 -0.318454   \n",
       "4  0.352941      18       33      51      89      140  0.021231 -0.606136   \n",
       "\n",
       "    Max   Min      Odds       Pct    PctBad   PctGood     Range   TotalIV  \\\n",
       "0  26.0  19.0  0.571429  0.095861  0.075829  0.112903  <=26.000  0.126784   \n",
       "1  30.0  27.0  0.720000  0.093682  0.085308  0.100806  <=30.000  0.126784   \n",
       "2  34.0  31.0  0.656250  0.115468  0.099526  0.129032  <=34.000  0.126784   \n",
       "3  38.0  35.0  0.727273  0.082789  0.075829  0.088710  <=38.000  0.126784   \n",
       "4  41.0  39.0  0.545455  0.111111  0.085308  0.133065  <=41.000  0.126784   \n",
       "\n",
       "             Var       WoE  \n",
       "0  applicant_age -0.398045  \n",
       "1  applicant_age -0.166933  \n",
       "2  applicant_age -0.259643  \n",
       "3  applicant_age -0.156883  \n",
       "4  applicant_age -0.444565  "
      ]
     },
     "execution_count": 14,
     "metadata": {},
     "output_type": "execute_result"
    }
   ],
   "source": [
    "binut.get_all_bin_stats().head()"
   ]
  },
  {
   "cell_type": "markdown",
   "metadata": {},
   "source": [
    "## 调用woe画图"
   ]
  },
  {
   "cell_type": "code",
   "execution_count": 15,
   "metadata": {
    "scrolled": true
   },
   "outputs": [
    {
     "name": "stdout",
     "output_type": "stream",
     "text": [
      "\"applicant_age\"  :  iv=0.12678428559583058\n"
     ]
    },
    {
     "data": {
      "image/png": "[encoded data removed]",
      "text/plain": [
       "<Figure size 432x288 with 1 Axes>"
      ]
     },
     "metadata": {
      "needs_background": "light"
     },
     "output_type": "display_data"
    },
    {
     "name": "stdout",
     "output_type": "stream",
     "text": [
      "Cutoff:[26, 30, 34, 38, 41, 45, 50, 54, 59, 79]\n",
      "\"amt_req\"  :  iv=0.026614832725776128\n"
     ]
    },
    {
     "data": {
      "image/png": "[encoded data removed]",
      "text/plain": [
       "<Figure size 432x288 with 1 Axes>"
      ]
     },
     "metadata": {
      "needs_background": "light"
     },
     "output_type": "display_data"
    },
    {
     "name": "stdout",
     "output_type": "stream",
     "text": [
      "Cutoff:[300, 400, 500, 600, 750, 800]\n",
      "\"rent_own\"  :  iv=0.03936528651677712\n"
     ]
    },
    {
     "data": {
      "image/png": "[encoded data removed]",
      "text/plain": [
       "<Figure size 432x288 with 1 Axes>"
      ]
     },
     "metadata": {
      "needs_background": "light"
     },
     "output_type": "display_data"
    },
    {
     "name": "stdout",
     "output_type": "stream",
     "text": [
      "Cutoff:[0, 1]\n",
      "\"mthly_rent_amt\"  :  iv=0.020206552867532417\n"
     ]
    },
    {
     "data": {
      "image/png": "[encoded data removed]",
      "text/plain": [
       "<Figure size 432x288 with 1 Axes>"
      ]
     },
     "metadata": {
      "needs_background": "light"
     },
     "output_type": "display_data"
    },
    {
     "name": "stdout",
     "output_type": "stream",
     "text": [
      "Cutoff:[0, 232, 400, 525, 650, 825, 1075, 3018]\n",
      "\"bank_acct_dd\"  :  iv=0.01667293141559368\n"
     ]
    },
    {
     "data": {
      "image/png": "[encoded data removed]",
      "text/plain": [
       "<Figure size 432x288 with 1 Axes>"
      ]
     },
     "metadata": {
      "needs_background": "light"
     },
     "output_type": "display_data"
    },
    {
     "name": "stdout",
     "output_type": "stream",
     "text": [
      "Cutoff:[0, 1]\n",
      "\"loan_dur\"  :  iv=0.057781540655364214\n"
     ]
    },
    {
     "data": {
      "image/png": "[encoded data removed]",
      "text/plain": [
       "<Figure size 432x288 with 1 Axes>"
      ]
     },
     "metadata": {
      "needs_background": "light"
     },
     "output_type": "display_data"
    },
    {
     "name": "stdout",
     "output_type": "stream",
     "text": [
      "Cutoff:[4, 5, 7, 8]\n",
      "\"pmt_ach\"  :  iv=0.0\n"
     ]
    },
    {
     "data": {
      "image/png": "[encoded data removed]",
      "text/plain": [
       "<Figure size 432x288 with 1 Axes>"
      ]
     },
     "metadata": {
      "needs_background": "light"
     },
     "output_type": "display_data"
    },
    {
     "name": "stdout",
     "output_type": "stream",
     "text": [
      "Cutoff:[1]\n",
      "\"nm_pmt\"  :  iv=0.32848790065654815\n"
     ]
    },
    {
     "data": {
      "image/png": "[encoded data removed]",
      "text/plain": [
       "<Figure size 432x288 with 1 Axes>"
      ]
     },
     "metadata": {
      "needs_background": "light"
     },
     "output_type": "display_data"
    },
    {
     "name": "stdout",
     "output_type": "stream",
     "text": [
      "Cutoff:[5, 6, 8, 10, 12, 13, 34]\n",
      "\"pmt_amt\"  :  iv=0.33278219334262416\n"
     ]
    },
    {
     "data": {
      "image/png": "[encoded data removed]",
      "text/plain": [
       "<Figure size 432x288 with 1 Axes>"
      ]
     },
     "metadata": {
      "needs_background": "light"
     },
     "output_type": "display_data"
    },
    {
     "name": "stdout",
     "output_type": "stream",
     "text": [
      "Cutoff:[75.46, 77.39, 86.91, 92.17, 108.48, 136.0, 182.14, 455.5]\n",
      "\"amt_aprv\"  :  iv=0.022753467088211504\n"
     ]
    },
    {
     "data": {
      "image/png": "[encoded data removed]",
      "text/plain": [
       "<Figure size 432x288 with 1 Axes>"
      ]
     },
     "metadata": {
      "needs_background": "light"
     },
     "output_type": "display_data"
    },
    {
     "name": "stdout",
     "output_type": "stream",
     "text": [
      "Cutoff:[400, 500, 800]\n",
      "\"dur_aprv\"  :  iv=0.06535323055065045\n"
     ]
    },
    {
     "data": {
      "image/png": "[encoded data removed]",
      "text/plain": [
       "<Figure size 432x288 with 1 Axes>"
      ]
     },
     "metadata": {
      "needs_background": "light"
     },
     "output_type": "display_data"
    },
    {
     "name": "stdout",
     "output_type": "stream",
     "text": [
      "Cutoff:[4, 5, 6, 8]\n",
      "\"pmt_amt_aprv\"  :  iv=0.00015429475504987378\n"
     ]
    },
    {
     "data": {
      "image/png": "[encoded data removed]",
      "text/plain": [
       "<Figure size 432x288 with 1 Axes>"
      ]
     },
     "metadata": {
      "needs_background": "light"
     },
     "output_type": "display_data"
    },
    {
     "name": "stdout",
     "output_type": "stream",
     "text": [
      "Cutoff:[455.5]\n",
      "\"county\"  :  iv=0.17450763804817782\n"
     ]
    },
    {
     "data": {
      "image/png": "[encoded data removed]",
      "text/plain": [
       "<Figure size 432x288 with 1 Axes>"
      ]
     },
     "metadata": {
      "needs_background": "light"
     },
     "output_type": "display_data"
    },
    {
     "name": "stdout",
     "output_type": "stream",
     "text": [
      "0    [Clay County, Hanson County, Cassia County, Po...\n",
      "1                    [Canyon County, Minnehaha County]\n",
      "2    [Salt Lake County, Davis County, Bingham Count...\n",
      "3    [Tooele County, Ada County, McCook County, San...\n",
      "4       [Weber County, Utah County, Washington County]\n",
      "5    [Kootenai County, Latah County, Brown County, ...\n",
      "6    [Hamlin County, Beadle County, Carbon County, ...\n",
      "Name: Range, dtype: object\n",
      "\"res_dur\"  :  iv=0.045873563615919356\n"
     ]
    },
    {
     "data": {
      "image/png": "[encoded data removed]",
      "text/plain": [
       "<Figure size 432x288 with 1 Axes>"
      ]
     },
     "metadata": {
      "needs_background": "light"
     },
     "output_type": "display_data"
    },
    {
     "name": "stdout",
     "output_type": "stream",
     "text": [
      "0         [7-12 months]\n",
      "1    [6 months or less]\n",
      "2           [1-2 years]\n",
      "3            [3+ years]\n",
      "Name: Range, dtype: object\n",
      "\"bank_acct_dur\"  :  iv=0.09195835197458005\n"
     ]
    },
    {
     "data": {
      "image/png": "[encoded data removed]",
      "text/plain": [
       "<Figure size 432x288 with 1 Axes>"
      ]
     },
     "metadata": {
      "needs_background": "light"
     },
     "output_type": "display_data"
    },
    {
     "name": "stdout",
     "output_type": "stream",
     "text": [
      "0    [6 months or less]\n",
      "1           [1-2 years]\n",
      "2         [7-12 months]\n",
      "3            [3+ years]\n",
      "4                 [nan]\n",
      "Name: Range, dtype: object\n",
      "\"pmt_freq\"  :  iv=0.34463606693056686\n"
     ]
    },
    {
     "data": {
      "image/png": "[encoded data removed]",
      "text/plain": [
       "<Figure size 432x288 with 1 Axes>"
      ]
     },
     "metadata": {
      "needs_background": "light"
     },
     "output_type": "display_data"
    },
    {
     "name": "stdout",
     "output_type": "stream",
     "text": [
      "0          [Weekly]\n",
      "1       [Bi-weekly]\n",
      "2    [Semi-monthly]\n",
      "3         [Monthly]\n",
      "Name: Range, dtype: object\n",
      "\"home_phone_type\"  :  iv=0.0021174841306318406\n"
     ]
    },
    {
     "data": {
      "image/png": "[encoded data removed]",
      "text/plain": [
       "<Figure size 432x288 with 1 Axes>"
      ]
     },
     "metadata": {
      "needs_background": "light"
     },
     "output_type": "display_data"
    },
    {
     "name": "stdout",
     "output_type": "stream",
     "text": [
      "0      [Work]\n",
      "1    [Mobile]\n",
      "2      [Home]\n",
      "Name: Range, dtype: object\n",
      "\"has_other_phone\"  :  iv=0.02453121336253721\n"
     ]
    },
    {
     "data": {
      "image/png": "[encoded data removed]",
      "text/plain": [
       "<Figure size 432x288 with 1 Axes>"
      ]
     },
     "metadata": {
      "needs_background": "light"
     },
     "output_type": "display_data"
    },
    {
     "name": "stdout",
     "output_type": "stream",
     "text": [
      "Cutoff:[0, 1]\n",
      "\"how_use_money\"  :  iv=0.1327080564032424\n"
     ]
    },
    {
     "data": {
      "image/png": "[encoded data removed]",
      "text/plain": [
       "<Figure size 432x288 with 1 Axes>"
      ]
     },
     "metadata": {
      "needs_background": "light"
     },
     "output_type": "display_data"
    },
    {
     "name": "stdout",
     "output_type": "stream",
     "text": [
      "0              [Bills (Auto), Bills (Home / Utilities)]\n",
      "1                                                 [Car]\n",
      "2                                               [Bills]\n",
      "3                              [Other, Bills (Medical)]\n",
      "4                                                 [nan]\n",
      "5                                     [Bills (General)]\n",
      "6                                              [School]\n",
      "7                            [Rent / Mortgage, Medical]\n",
      "8                                                [Rent]\n",
      "9     [Gifts / Leisure, Pay off loans / overdrawn acct]\n",
      "10                                          [Won't say]\n",
      "Name: Range, dtype: object\n",
      "\"mthly_income_amt\"  :  iv=0.1052237325140501\n"
     ]
    },
    {
     "data": {
      "image/png": "[encoded data removed]",
      "text/plain": [
       "<Figure size 432x288 with 1 Axes>"
      ]
     },
     "metadata": {
      "needs_background": "light"
     },
     "output_type": "display_data"
    },
    {
     "name": "stdout",
     "output_type": "stream",
     "text": [
      "Cutoff:[1080, 1300, 1585, 1984, 2200, 2520, 2998, 3376, 4236, 19392]\n",
      "\"raw_l2c_score\"  :  iv=0.12503951970921573\n"
     ]
    },
    {
     "data": {
      "image/png": "[encoded data removed]",
      "text/plain": [
       "<Figure size 432x288 with 1 Axes>"
      ]
     },
     "metadata": {
      "needs_background": "light"
     },
     "output_type": "display_data"
    },
    {
     "name": "stdout",
     "output_type": "stream",
     "text": [
      "Cutoff:[512, 534, 544, 569, 586, 615, 645, 713, 751, 808]\n",
      "\"raw_FICO_telecom\"  :  iv=0.1788278739969028\n"
     ]
    },
    {
     "data": {
      "image/png": "[encoded data removed]",
      "text/plain": [
       "<Figure size 432x288 with 1 Axes>"
      ]
     },
     "metadata": {
      "needs_background": "light"
     },
     "output_type": "display_data"
    },
    {
     "name": "stdout",
     "output_type": "stream",
     "text": [
      "Cutoff:[518, 532, 544, 558, 569, 579, 591, 605, 623, 712]\n",
      "\"raw_FICO_retail\"  :  iv=0.26953560252533826\n"
     ]
    },
    {
     "data": {
      "image/png": "[encoded data removed]",
      "text/plain": [
       "<Figure size 432x288 with 1 Axes>"
      ]
     },
     "metadata": {
      "needs_background": "light"
     },
     "output_type": "display_data"
    },
    {
     "name": "stdout",
     "output_type": "stream",
     "text": [
      "Cutoff:[539, 551, 563, 581, 596, 615, 632, 646, 663, 756]\n",
      "\"raw_FICO_bank_card\"  :  iv=0.29527677804668906\n"
     ]
    },
    {
     "data": {
      "image/png": "[encoded data removed]",
      "text/plain": [
       "<Figure size 432x288 with 1 Axes>"
      ]
     },
     "metadata": {
      "needs_background": "light"
     },
     "output_type": "display_data"
    },
    {
     "name": "stdout",
     "output_type": "stream",
     "text": [
      "Cutoff:[626, 647, 659, 671, 679, 680, 703, 797]\n",
      "\"raw_FICO_money\"  :  iv=0.2248845414965418\n"
     ]
    },
    {
     "data": {
      "image/png": "[encoded data removed]",
      "text/plain": [
       "<Figure size 432x288 with 1 Axes>"
      ]
     },
     "metadata": {
      "needs_background": "light"
     },
     "output_type": "display_data"
    },
    {
     "name": "stdout",
     "output_type": "stream",
     "text": [
      "Cutoff:[574, 583, 591, 599, 605, 611, 616, 624, 632, 657]\n",
      "\"req_inc_ratio\"  :  iv=0.06497932572350262\n"
     ]
    },
    {
     "data": {
      "image/png": "[encoded data removed]",
      "text/plain": [
       "<Figure size 432x288 with 1 Axes>"
      ]
     },
     "metadata": {
      "needs_background": "light"
     },
     "output_type": "display_data"
    },
    {
     "name": "stdout",
     "output_type": "stream",
     "text": [
      "Cutoff:[12.5, 15.86294416, 20.17484869, 22.72727273, 25.80645161, 29.9850075, 33.33333333, 41.36504654, 52.23880597, 166.66666669999995]\n",
      "\"rent_ratio\"  :  iv=0.01912688776840628\n"
     ]
    },
    {
     "data": {
      "image/png": "[encoded data removed]",
      "text/plain": [
       "<Figure size 432x288 with 1 Axes>"
      ]
     },
     "metadata": {
      "needs_background": "light"
     },
     "output_type": "display_data"
    },
    {
     "name": "stdout",
     "output_type": "stream",
     "text": [
      "Cutoff:[0.0, 12.63513514, 17.85714286, 23.6, 29.16666667, 35.29411765, 45.0, 114.4859813]\n",
      "\"pmt_ratio\"  :  iv=0.1345098984993312\n"
     ]
    },
    {
     "data": {
      "image/png": "[encoded data removed]",
      "text/plain": [
       "<Figure size 432x288 with 1 Axes>"
      ]
     },
     "metadata": {
      "needs_background": "light"
     },
     "output_type": "display_data"
    },
    {
     "name": "stdout",
     "output_type": "stream",
     "text": [
      "Cutoff:[0.020947727, 0.027108824, 0.033516364, 0.038805871, 0.046083333, 0.053183544000000006, 0.064491667, 0.085988889, 0.116532452, 0.5725]\n",
      "\"pmt_amt_apv_match\"  :  iv=0.04742156017249568\n"
     ]
    },
    {
     "data": {
      "image/png": "[encoded data removed]",
      "text/plain": [
       "<Figure size 432x288 with 1 Axes>"
      ]
     },
     "metadata": {
      "needs_background": "light"
     },
     "output_type": "display_data"
    },
    {
     "name": "stdout",
     "output_type": "stream",
     "text": [
      "Cutoff:[0, 1]\n",
      "\"amt_apv_match\"  :  iv=0.007074403455076419\n"
     ]
    },
    {
     "data": {
      "image/png": "[encoded data removed]",
      "text/plain": [
       "<Figure size 432x288 with 1 Axes>"
      ]
     },
     "metadata": {
      "needs_background": "light"
     },
     "output_type": "display_data"
    },
    {
     "name": "stdout",
     "output_type": "stream",
     "text": [
      "Cutoff:[0, 1]\n",
      "\"name\"  :  iv=0.013511870280007802\n"
     ]
    },
    {
     "data": {
      "image/png": "[encoded data removed]",
      "text/plain": [
       "<Figure size 432x288 with 1 Axes>"
      ]
     },
     "metadata": {
      "needs_background": "light"
     },
     "output_type": "display_data"
    },
    {
     "name": "stdout",
     "output_type": "stream",
     "text": [
      "0       [jack ma]\n",
      "1           [xxd]\n",
      "2            [yq]\n",
      "3            [qq]\n",
      "4        [yuqing]\n",
      "5           [nan]\n",
      "6            [dd]\n",
      "7    [xuxiaodong]\n",
      "Name: Range, dtype: object\n"
     ]
    }
   ],
   "source": [
    "binut.plot_all_woe()"
   ]
  },
  {
   "cell_type": "markdown",
   "metadata": {},
   "source": [
    "## 手调分箱案例"
   ]
  },
  {
   "cell_type": "code",
   "execution_count": 16,
   "metadata": {},
   "outputs": [
    {
     "name": "stdout",
     "output_type": "stream",
     "text": [
      "done.\n"
     ]
    },
    {
     "data": {
      "image/png": "[encoded data removed]",
      "text/plain": [
       "<Figure size 432x288 with 1 Axes>"
      ]
     },
     "metadata": {
      "needs_background": "light"
     },
     "output_type": "display_data"
    },
    {
     "name": "stdout",
     "output_type": "stream",
     "text": [
      "Cutoff:[25, 60, 79]\n"
     ]
    },
    {
     "data": {
      "text/html": [
       "<div>\n",
       "<style scoped>\n",
       "    .dataframe tbody tr th:only-of-type {\n",
       "        vertical-align: middle;\n",
       "    }\n",
       "\n",
       "    .dataframe tbody tr th {\n",
       "        vertical-align: top;\n",
       "    }\n",
       "\n",
       "    .dataframe thead th {\n",
       "        text-align: right;\n",
       "    }\n",
       "</style>\n",
       "<table border=\"1\" class=\"dataframe\">\n",
       "  <thead>\n",
       "    <tr style=\"text-align: right;\">\n",
       "      <th></th>\n",
       "      <th>Var</th>\n",
       "      <th>Range</th>\n",
       "      <th>Min</th>\n",
       "      <th>Max</th>\n",
       "      <th>CntRec</th>\n",
       "      <th>CntGood</th>\n",
       "      <th>CntBad</th>\n",
       "      <th>Pct</th>\n",
       "      <th>PctBad</th>\n",
       "      <th>PctGood</th>\n",
       "      <th>BadRate</th>\n",
       "      <th>CumGood</th>\n",
       "      <th>CumBad</th>\n",
       "      <th>Odds</th>\n",
       "      <th>LnOdds</th>\n",
       "      <th>WoE</th>\n",
       "      <th>IV</th>\n",
       "      <th>TotalIV</th>\n",
       "    </tr>\n",
       "  </thead>\n",
       "  <tbody>\n",
       "    <tr>\n",
       "      <th>0</th>\n",
       "      <td>applicant_age</td>\n",
       "      <td>&lt;=25.000</td>\n",
       "      <td>19</td>\n",
       "      <td>25</td>\n",
       "      <td>33</td>\n",
       "      <td>24</td>\n",
       "      <td>9</td>\n",
       "      <td>0.071895</td>\n",
       "      <td>0.042654</td>\n",
       "      <td>0.096774</td>\n",
       "      <td>0.272727</td>\n",
       "      <td>24</td>\n",
       "      <td>9</td>\n",
       "      <td>0.375000</td>\n",
       "      <td>-0.980829</td>\n",
       "      <td>-0.819259</td>\n",
       "      <td>0.044338</td>\n",
       "      <td>0.105186</td>\n",
       "    </tr>\n",
       "    <tr>\n",
       "      <th>1</th>\n",
       "      <td>applicant_age</td>\n",
       "      <td>&lt;=60.000</td>\n",
       "      <td>26</td>\n",
       "      <td>60</td>\n",
       "      <td>387</td>\n",
       "      <td>211</td>\n",
       "      <td>176</td>\n",
       "      <td>0.843137</td>\n",
       "      <td>0.834123</td>\n",
       "      <td>0.850806</td>\n",
       "      <td>0.454780</td>\n",
       "      <td>235</td>\n",
       "      <td>185</td>\n",
       "      <td>0.834123</td>\n",
       "      <td>-0.181374</td>\n",
       "      <td>-0.019804</td>\n",
       "      <td>0.000330</td>\n",
       "      <td>0.105186</td>\n",
       "    </tr>\n",
       "    <tr>\n",
       "      <th>2</th>\n",
       "      <td>applicant_age</td>\n",
       "      <td>&lt;=79.000</td>\n",
       "      <td>61</td>\n",
       "      <td>79</td>\n",
       "      <td>39</td>\n",
       "      <td>13</td>\n",
       "      <td>26</td>\n",
       "      <td>0.084967</td>\n",
       "      <td>0.123223</td>\n",
       "      <td>0.052419</td>\n",
       "      <td>0.666667</td>\n",
       "      <td>248</td>\n",
       "      <td>211</td>\n",
       "      <td>2.000000</td>\n",
       "      <td>0.693147</td>\n",
       "      <td>0.854718</td>\n",
       "      <td>0.060517</td>\n",
       "      <td>0.105186</td>\n",
       "    </tr>\n",
       "  </tbody>\n",
       "</table>\n",
       "</div>"
      ],
      "text/plain": [
       "             Var     Range  Min  Max  CntRec  CntGood  CntBad       Pct  \\\n",
       "0  applicant_age  <=25.000   19   25      33       24       9  0.071895   \n",
       "1  applicant_age  <=60.000   26   60     387      211     176  0.843137   \n",
       "2  applicant_age  <=79.000   61   79      39       13      26  0.084967   \n",
       "\n",
       "     PctBad   PctGood   BadRate  CumGood  CumBad      Odds    LnOdds  \\\n",
       "0  0.042654  0.096774  0.272727       24       9  0.375000 -0.980829   \n",
       "1  0.834123  0.850806  0.454780      235     185  0.834123 -0.181374   \n",
       "2  0.123223  0.052419  0.666667      248     211  2.000000  0.693147   \n",
       "\n",
       "        WoE        IV   TotalIV  \n",
       "0 -0.819259  0.044338  0.105186  \n",
       "1 -0.019804  0.000330  0.105186  \n",
       "2  0.854718  0.060517  0.105186  "
      ]
     },
     "execution_count": 16,
     "metadata": {},
     "output_type": "execute_result"
    }
   ],
   "source": [
    "col = 'applicant_age'\n",
    "binut.manual_bin(col=col,bins_or_cutoff=[np.nan,25,60])\n",
    "nb = binut.get_bin(col)\n",
    "nb.plot_woe()\n",
    "nb.get_bin_stats()"
   ]
  },
  {
   "cell_type": "markdown",
   "metadata": {},
   "source": [
    "## 手调分箱之后调用分箱统计函数及iv_ks_auc计算函数"
   ]
  },
  {
   "cell_type": "code",
   "execution_count": 19,
   "metadata": {},
   "outputs": [
    {
     "data": {
      "text/html": [
       "<div>\n",
       "<style scoped>\n",
       "    .dataframe tbody tr th:only-of-type {\n",
       "        vertical-align: middle;\n",
       "    }\n",
       "\n",
       "    .dataframe tbody tr th {\n",
       "        vertical-align: top;\n",
       "    }\n",
       "\n",
       "    .dataframe thead th {\n",
       "        text-align: right;\n",
       "    }\n",
       "</style>\n",
       "<table border=\"1\" class=\"dataframe\">\n",
       "  <thead>\n",
       "    <tr style=\"text-align: right;\">\n",
       "      <th></th>\n",
       "      <th>var</th>\n",
       "      <th>iv</th>\n",
       "      <th>ks</th>\n",
       "      <th>auc</th>\n",
       "    </tr>\n",
       "  </thead>\n",
       "  <tbody>\n",
       "    <tr>\n",
       "      <th>0</th>\n",
       "      <td>applicant_age</td>\n",
       "      <td>0.105186</td>\n",
       "      <td>0.070803</td>\n",
       "      <td>0.557617</td>\n",
       "    </tr>\n",
       "    <tr>\n",
       "      <th>1</th>\n",
       "      <td>amt_req</td>\n",
       "      <td>0.026615</td>\n",
       "      <td>0.057617</td>\n",
       "      <td>0.540514</td>\n",
       "    </tr>\n",
       "    <tr>\n",
       "      <th>2</th>\n",
       "      <td>rent_own</td>\n",
       "      <td>0.039365</td>\n",
       "      <td>0.093564</td>\n",
       "      <td>0.546782</td>\n",
       "    </tr>\n",
       "    <tr>\n",
       "      <th>3</th>\n",
       "      <td>mthly_rent_amt</td>\n",
       "      <td>0.020207</td>\n",
       "      <td>0.062146</td>\n",
       "      <td>0.538765</td>\n",
       "    </tr>\n",
       "    <tr>\n",
       "      <th>4</th>\n",
       "      <td>bank_acct_dd</td>\n",
       "      <td>0.016673</td>\n",
       "      <td>0.051158</td>\n",
       "      <td>0.525579</td>\n",
       "    </tr>\n",
       "  </tbody>\n",
       "</table>\n",
       "</div>"
      ],
      "text/plain": [
       "              var        iv        ks       auc\n",
       "0   applicant_age  0.105186  0.070803  0.557617\n",
       "1         amt_req  0.026615  0.057617  0.540514\n",
       "2        rent_own  0.039365  0.093564  0.546782\n",
       "3  mthly_rent_amt  0.020207  0.062146  0.538765\n",
       "4    bank_acct_dd  0.016673  0.051158  0.525579"
      ]
     },
     "execution_count": 19,
     "metadata": {},
     "output_type": "execute_result"
    }
   ],
   "source": [
    "binut.iv_ks_auc().head()"
   ]
  },
  {
   "cell_type": "code",
   "execution_count": 17,
   "metadata": {},
   "outputs": [
    {
     "name": "stderr",
     "output_type": "stream",
     "text": [
      "d:\\ProgramData\\Anaconda3\\lib\\site-packages\\pandas\\core\\frame.py:6211: FutureWarning: Sorting because non-concatenation axis is not aligned. A future version\n",
      "of pandas will change to not sort by default.\n",
      "\n",
      "To accept the future behavior, pass 'sort=False'.\n",
      "\n",
      "To retain the current behavior and silence the warning, pass 'sort=True'.\n",
      "\n",
      "  sort=sort)\n"
     ]
    },
    {
     "data": {
      "text/html": [
       "<div>\n",
       "<style scoped>\n",
       "    .dataframe tbody tr th:only-of-type {\n",
       "        vertical-align: middle;\n",
       "    }\n",
       "\n",
       "    .dataframe tbody tr th {\n",
       "        vertical-align: top;\n",
       "    }\n",
       "\n",
       "    .dataframe thead th {\n",
       "        text-align: right;\n",
       "    }\n",
       "</style>\n",
       "<table border=\"1\" class=\"dataframe\">\n",
       "  <thead>\n",
       "    <tr style=\"text-align: right;\">\n",
       "      <th></th>\n",
       "      <th>BadRate</th>\n",
       "      <th>CntBad</th>\n",
       "      <th>CntGood</th>\n",
       "      <th>CntRec</th>\n",
       "      <th>CumBad</th>\n",
       "      <th>CumGood</th>\n",
       "      <th>IV</th>\n",
       "      <th>LnOdds</th>\n",
       "      <th>Max</th>\n",
       "      <th>Min</th>\n",
       "      <th>Odds</th>\n",
       "      <th>Pct</th>\n",
       "      <th>PctBad</th>\n",
       "      <th>PctGood</th>\n",
       "      <th>Range</th>\n",
       "      <th>TotalIV</th>\n",
       "      <th>Var</th>\n",
       "      <th>WoE</th>\n",
       "    </tr>\n",
       "  </thead>\n",
       "  <tbody>\n",
       "    <tr>\n",
       "      <th>0</th>\n",
       "      <td>0.272727</td>\n",
       "      <td>9</td>\n",
       "      <td>24</td>\n",
       "      <td>33</td>\n",
       "      <td>9</td>\n",
       "      <td>24</td>\n",
       "      <td>0.044338</td>\n",
       "      <td>-0.980829</td>\n",
       "      <td>25.0</td>\n",
       "      <td>19.0</td>\n",
       "      <td>0.375000</td>\n",
       "      <td>0.071895</td>\n",
       "      <td>0.042654</td>\n",
       "      <td>0.096774</td>\n",
       "      <td>&lt;=25.000</td>\n",
       "      <td>0.105186</td>\n",
       "      <td>applicant_age</td>\n",
       "      <td>-0.819259</td>\n",
       "    </tr>\n",
       "    <tr>\n",
       "      <th>1</th>\n",
       "      <td>0.454780</td>\n",
       "      <td>176</td>\n",
       "      <td>211</td>\n",
       "      <td>387</td>\n",
       "      <td>185</td>\n",
       "      <td>235</td>\n",
       "      <td>0.000330</td>\n",
       "      <td>-0.181374</td>\n",
       "      <td>60.0</td>\n",
       "      <td>26.0</td>\n",
       "      <td>0.834123</td>\n",
       "      <td>0.843137</td>\n",
       "      <td>0.834123</td>\n",
       "      <td>0.850806</td>\n",
       "      <td>&lt;=60.000</td>\n",
       "      <td>0.105186</td>\n",
       "      <td>applicant_age</td>\n",
       "      <td>-0.019804</td>\n",
       "    </tr>\n",
       "    <tr>\n",
       "      <th>2</th>\n",
       "      <td>0.666667</td>\n",
       "      <td>26</td>\n",
       "      <td>13</td>\n",
       "      <td>39</td>\n",
       "      <td>211</td>\n",
       "      <td>248</td>\n",
       "      <td>0.060517</td>\n",
       "      <td>0.693147</td>\n",
       "      <td>79.0</td>\n",
       "      <td>61.0</td>\n",
       "      <td>2.000000</td>\n",
       "      <td>0.084967</td>\n",
       "      <td>0.123223</td>\n",
       "      <td>0.052419</td>\n",
       "      <td>&lt;=79.000</td>\n",
       "      <td>0.105186</td>\n",
       "      <td>applicant_age</td>\n",
       "      <td>0.854718</td>\n",
       "    </tr>\n",
       "    <tr>\n",
       "      <th>0</th>\n",
       "      <td>0.555556</td>\n",
       "      <td>25</td>\n",
       "      <td>20</td>\n",
       "      <td>45</td>\n",
       "      <td>25</td>\n",
       "      <td>20</td>\n",
       "      <td>0.014557</td>\n",
       "      <td>0.223144</td>\n",
       "      <td>300.0</td>\n",
       "      <td>250.0</td>\n",
       "      <td>1.250000</td>\n",
       "      <td>0.098039</td>\n",
       "      <td>0.118483</td>\n",
       "      <td>0.080645</td>\n",
       "      <td>&lt;=300.000</td>\n",
       "      <td>0.026615</td>\n",
       "      <td>amt_req</td>\n",
       "      <td>0.384714</td>\n",
       "    </tr>\n",
       "    <tr>\n",
       "      <th>1</th>\n",
       "      <td>0.382353</td>\n",
       "      <td>13</td>\n",
       "      <td>21</td>\n",
       "      <td>34</td>\n",
       "      <td>38</td>\n",
       "      <td>41</td>\n",
       "      <td>0.007335</td>\n",
       "      <td>-0.479573</td>\n",
       "      <td>400.0</td>\n",
       "      <td>350.0</td>\n",
       "      <td>0.619048</td>\n",
       "      <td>0.074074</td>\n",
       "      <td>0.061611</td>\n",
       "      <td>0.084677</td>\n",
       "      <td>&lt;=400.000</td>\n",
       "      <td>0.026615</td>\n",
       "      <td>amt_req</td>\n",
       "      <td>-0.318002</td>\n",
       "    </tr>\n",
       "  </tbody>\n",
       "</table>\n",
       "</div>"
      ],
      "text/plain": [
       "    BadRate  CntBad  CntGood  CntRec  CumBad  CumGood        IV    LnOdds  \\\n",
       "0  0.272727       9       24      33       9       24  0.044338 -0.980829   \n",
       "1  0.454780     176      211     387     185      235  0.000330 -0.181374   \n",
       "2  0.666667      26       13      39     211      248  0.060517  0.693147   \n",
       "0  0.555556      25       20      45      25       20  0.014557  0.223144   \n",
       "1  0.382353      13       21      34      38       41  0.007335 -0.479573   \n",
       "\n",
       "     Max    Min      Odds       Pct    PctBad   PctGood      Range   TotalIV  \\\n",
       "0   25.0   19.0  0.375000  0.071895  0.042654  0.096774   <=25.000  0.105186   \n",
       "1   60.0   26.0  0.834123  0.843137  0.834123  0.850806   <=60.000  0.105186   \n",
       "2   79.0   61.0  2.000000  0.084967  0.123223  0.052419   <=79.000  0.105186   \n",
       "0  300.0  250.0  1.250000  0.098039  0.118483  0.080645  <=300.000  0.026615   \n",
       "1  400.0  350.0  0.619048  0.074074  0.061611  0.084677  <=400.000  0.026615   \n",
       "\n",
       "             Var       WoE  \n",
       "0  applicant_age -0.819259  \n",
       "1  applicant_age -0.019804  \n",
       "2  applicant_age  0.854718  \n",
       "0        amt_req  0.384714  \n",
       "1        amt_req -0.318002  "
      ]
     },
     "execution_count": 17,
     "metadata": {},
     "output_type": "execute_result"
    }
   ],
   "source": [
    "binut.get_all_bin_stats().head()"
   ]
  },
  {
   "cell_type": "markdown",
   "metadata": {},
   "source": [
    "## 训练集测试集样本集调用woe转换"
   ]
  },
  {
   "cell_type": "code",
   "execution_count": 18,
   "metadata": {},
   "outputs": [],
   "source": [
    "train_df = binut.trans_to_woe(train_df)\n",
    "test_df = binut.trans_to_woe(test_df)\n",
    "all_woe=binut.trans_to_woe(demo_df)"
   ]
  },
  {
   "cell_type": "code",
   "execution_count": null,
   "metadata": {},
   "outputs": [],
   "source": []
  }
 ],
 "metadata": {
  "kernelspec": {
   "display_name": "Python 3",
   "language": "python",
   "name": "python3"
  },
  "language_info": {
   "codemirror_mode": {
    "name": "ipython",
    "version": 3
   },
   "file_extension": ".py",
   "mimetype": "text/x-python",
   "name": "python",
   "nbconvert_exporter": "python",
   "pygments_lexer": "ipython3",
   "version": "3.7.3"
  },
  "toc": {
   "base_numbering": 1,
   "nav_menu": {},
   "number_sections": true,
   "sideBar": true,
   "skip_h1_title": false,
   "title_cell": "Table of Contents",
   "title_sidebar": "Contents",
   "toc_cell": false,
   "toc_position": {},
   "toc_section_display": true,
   "toc_window_display": true
  },
  "varInspector": {
   "cols": {
    "lenName": 16,
    "lenType": 16,
    "lenVar": 40
   },
   "kernels_config": {
    "python": {
     "delete_cmd_postfix": "",
     "delete_cmd_prefix": "del ",
     "library": "var_list.py",
     "varRefreshCmd": "print(var_dic_list())"
    },
    "r": {
     "delete_cmd_postfix": ") ",
     "delete_cmd_prefix": "rm(",
     "library": "var_list.r",
     "varRefreshCmd": "cat(var_dic_list()) "
    }
   },
   "types_to_exclude": [
    "module",
    "function",
    "builtin_function_or_method",
    "instance",
    "_Feature"
   ],
   "window_display": false
  }
 },
 "nbformat": 4,
 "nbformat_minor": 2
}
